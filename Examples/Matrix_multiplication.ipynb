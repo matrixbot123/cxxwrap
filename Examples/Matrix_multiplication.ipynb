{
 "cells": [
  {
   "cell_type": "code",
   "execution_count": 28,
   "metadata": {},
   "outputs": [],
   "source": [
    "from pycxxwrap.pycxx import py11\n",
    "\n",
    "from pycxxwrap.tools import set_args\n",
    "from pycxxwrap.types import *"
   ]
  },
  {
   "cell_type": "code",
   "execution_count": 29,
   "metadata": {},
   "outputs": [],
   "source": [
    "a = set_args(flags = \"\"\"-std=c++17 -I/home/matrix/GSoc/ipyhpx \n",
    "          -I/home/matrix/pyhpx/release_hpx/hpx/cmake_install/include \n",
    "          -L/home/matrix/pyhpx/release_hpx/hpx/cmake_install/lib -lhpx \n",
    "          -Wl,-rpath=/home/matrix/pyhpx/release_hpx/hpx/cmake_install/lib\"\"\",\n",
    "          lib_path=\"./matrix\",\n",
    "          module_name=\"operations\")"
   ]
  },
  {
   "cell_type": "code",
   "execution_count": 30,
   "metadata": {},
   "outputs": [],
   "source": [
    "create_type(\"func\",\"std::function<void()>\")"
   ]
  },
  {
   "cell_type": "code",
   "execution_count": 31,
   "metadata": {},
   "outputs": [
    {
     "name": "stdout",
     "output_type": "stream",
     "text": [
      "self.flags =  -std=c++17 -I/home/matrix/GSoc/ipyhpx \n",
      "          -I/home/matrix/pyhpx/release_hpx/hpx/cmake_install/include \n",
      "          -L/home/matrix/pyhpx/release_hpx/hpx/cmake_install/lib -lhpx \n",
      "          -Wl,-rpath=/home/matrix/pyhpx/release_hpx/hpx/cmake_install/lib\n",
      "self.module_name =  operations\n",
      "self.lib_path =  ./matrix\n",
      "input is ./matrix\n",
      "absolute path \n",
      "Directory already exists: /home/matrix/GSoc/pycxxwrap/Examples/matrix\n",
      "function name is : hpx_wrapper\n",
      "input is ./matrix\n",
      "absolute path \n",
      "Directory already exists: /home/matrix/GSoc/pycxxwrap/Examples/matrix\n",
      "the path is : /home/matrix/GSoc/pycxxwrap/Examples/matrix/hpx_wrapper\n",
      "type translation std::function<void()>\n",
      "type translation void\n",
      "\n",
      "                #include <pybind11/pybind11.h>\n",
      "                #include <pybind11/stl.h>\n",
      "                #include <run_hpx.cpp>\n",
      "#include <iostream>\n",
      "\n",
      "                \n",
      "\n",
      "                namespace py = pybind11;\n",
      "\n",
      "                extern \"C\" void hpx_wrapper(std::function<void()> f){\n",
      "                \n",
      "    const char *num = getenv(\"HPX_NUM_THREADS\");\n",
      "    int num_threads = num == 0 ? 4 : atoi(num);\n",
      "    std::cout << \"Using \" << num_threads << \" threads.\" << std::endl;\n",
      "    hpx_global::submit_work(num_threads,f);\n",
      "    \n",
      "                };\n",
      "\n",
      "                \n",
      "\n",
      "                extern \"C\" void load_functions() {\n",
      "                    \n",
      "                }\n",
      "\n",
      "                PYBIND11_MODULE(hpx_wrapper_v1, m) {\n",
      "                    m.def(\"load\",load_functions,\"function\"),\n",
      "                    m.def(\"call\",hpx_wrapper,\"function\",py::arg(\"f\"));\n",
      "                }\n",
      "started executing compilation ....\n",
      "function  is : \n",
      "def hpx_wrapper(*args):\n",
      "    fun = importlib.import_module(\"hpx_wrapper_v2\",\"./matrix\")\n",
      "    fun.load()\n",
      "    return fun.call(*args)\n",
      "    \n",
      "function already exists\n",
      "finished compilation 7.87 sec\n",
      "The path where .so goes ./matrix\n"
     ]
    }
   ],
   "source": [
    "@py11(headers=[\"<run_hpx.cpp>\",\"<iostream>\"],recompile=True,args=a)\n",
    "def hpx_wrapper(f : func)->None:\n",
    "    \"\"\"\n",
    "    const char *num = getenv(\"HPX_NUM_THREADS\");\n",
    "    int num_threads = num == 0 ? 4 : atoi(num);\n",
    "    std::cout << \"Using \" << num_threads << \" threads.\" << std::endl;\n",
    "    hpx_global::submit_work(num_threads,f);\n",
    "    \"\"\""
   ]
  },
  {
   "cell_type": "code",
   "execution_count": 32,
   "metadata": {},
   "outputs": [],
   "source": [
    "create_type(\"vvec\",\"std::vector<std::vector<int>>\",is_template=True)"
   ]
  },
  {
   "cell_type": "code",
   "execution_count": 33,
   "metadata": {},
   "outputs": [
    {
     "name": "stdout",
     "output_type": "stream",
     "text": [
      "self.flags =  -std=c++17 -I/home/matrix/GSoc/ipyhpx \n",
      "          -I/home/matrix/pyhpx/release_hpx/hpx/cmake_install/include \n",
      "          -L/home/matrix/pyhpx/release_hpx/hpx/cmake_install/lib -lhpx \n",
      "          -Wl,-rpath=/home/matrix/pyhpx/release_hpx/hpx/cmake_install/lib\n",
      "self.module_name =  operations\n",
      "self.lib_path =  ./matrix\n",
      "input is ./matrix\n",
      "absolute path \n",
      "Directory already exists: /home/matrix/GSoc/pycxxwrap/Examples/matrix\n",
      "function name is : matmul_par\n",
      "input is ./matrix\n",
      "absolute path \n",
      "Directory already exists: /home/matrix/GSoc/pycxxwrap/Examples/matrix\n",
      "the path is : /home/matrix/GSoc/pycxxwrap/Examples/matrix/matmul_par\n",
      "type translation std::vector<std::vector<int>>\n",
      "type translation std::vector<std::vector<int>>\n",
      "type translation std::vector<std::vector<int>>\n",
      "\n",
      "                #include <pybind11/pybind11.h>\n",
      "                #include <pybind11/stl.h>\n",
      "                #include <iostream>\n",
      "#include <vector>\n",
      "#include <hpx/algorithm.hpp>\n",
      "#include <hpx/chrono.hpp>\n",
      "#include <hpx/init.hpp>\n",
      "#include <hpx/modules/assertion.hpp>\n",
      "\n",
      "                \n",
      "#include <dlfcn.h>\n",
      "#include <fstream>\n",
      "#include <sstream>\n",
      "#include <stdlib.h>\n",
      "#include <unistd.h>\n",
      "#include <assert.h>\n",
      "\n",
      "static inline void *load_func(const char *fun) {\n",
      "    std::ostringstream fname;\n",
      "    fname << \"/home/matrix/GSoc/pycxxwrap/Examples/matrix\" << \"/\" << fun << \".so.txt\";\n",
      "    std::string so_txt = fname.str();\n",
      "\n",
      "    std::ifstream in;\n",
      "    in.open(so_txt.c_str());\n",
      "    assert(in.good());\n",
      "\n",
      "    std::string ver;\n",
      "    in >> ver;\n",
      "\n",
      "    std::ostringstream fun2;\n",
      "    fun2 << fun << \"_v\" << ver;\n",
      "\n",
      "    std::ostringstream lib;\n",
      "    lib << \"/home/matrix/GSoc/pycxxwrap/Examples/matrix\" << \"/\" << fun2.str() << \".so\";\n",
      "    in.close();\n",
      "    in.open(lib.str().c_str());\n",
      "    assert(in.good());\n",
      "    in.close();\n",
      "\n",
      "    void *handle = dlopen(lib.str().c_str(), RTLD_LAZY);\n",
      "    return dlsym(handle, fun);\n",
      "}\n",
      "typedef void(*hpx_wrapper_type_def)(std::function<void()> f);\n",
      "hpx_wrapper_type_def hpx_wrapper = nullptr;\n",
      "\n",
      "\n",
      "                namespace py = pybind11;\n",
      "\n",
      "                extern \"C\" std::vector<std::vector<int>> matmul_par(std::vector<std::vector<int>> a,std::vector<std::vector<int>> b){\n",
      "                \n",
      "    using namespace std;\n",
      "    int ra = a.size();\n",
      "    int ca = a[0].size();\n",
      "    int rb = b.size();\n",
      "    int cb = b[0].size();\n",
      "\n",
      "    if (ca != rb){\n",
      "        cerr << \"Dimensions incorrect (it's A(m,n)*B(n,k))\"<< endl;\n",
      "        return {};\n",
      "    }\n",
      "\n",
      "    vector<vector<int>> c(ra, vector<int>(cb,0));\n",
      "    //\n",
      "    hpx::for_each(hpx::execution::par, a.begin(), a.end(), [&](const std::vector<int>& row_a) {\n",
      "        int i = &row_a - &a[0];\n",
      "        for (int j = 0; j < cb; j++) {\n",
      "            for (int k = 0; k < ca; k++) {\n",
      "                c[i][j] += row_a[k] * b[k][j];\n",
      "            }\n",
      "        }\n",
      "    });\n",
      "    \n",
      "    return c;\n",
      "\n",
      "\n",
      "      \n",
      "                };\n",
      "\n",
      "                \n",
      "                std::vector<std::vector<int>> matmul_par_wrapped(std::vector<std::vector<int>> a,std::vector<std::vector<int>> b) {\n",
      "                    std::vector<std::vector<int>> r;\n",
      "                    std::function<void()> f = [&](){\n",
      "                        r = matmul_par(a,b);\n",
      "                    };\n",
      "                    hpx_wrapper(f);\n",
      "                    return r;\n",
      "                }\n",
      "\n",
      "                extern \"C\" void load_functions() {\n",
      "                    hpx_wrapper = (hpx_wrapper_type_def)load_func(\"hpx_wrapper\");\n",
      "\n",
      "                }\n",
      "\n",
      "                PYBIND11_MODULE(matmul_par_v1, m) {\n",
      "                    m.def(\"load\",load_functions,\"function\"),\n",
      "                    m.def(\"call\",matmul_par_wrapped,\"function\",py::arg(\"a\"),py::arg(\"b\"));\n",
      "                }\n",
      "The path where .so goes ./matrix\n"
     ]
    }
   ],
   "source": [
    "@py11(args=a,\n",
    "      headers=[\"<iostream>\",\n",
    "            \"<vector>\",\n",
    "            \"<hpx/algorithm.hpp>\",\n",
    "            \"<hpx/chrono.hpp>\",\n",
    "            \"<hpx/init.hpp>\",\n",
    "            \"<hpx/modules/assertion.hpp>\"],\n",
    "        wrap=hpx_wrapper)\n",
    "def matmul_par(a:vvec,b:vvec)->vvec:\n",
    "\n",
    "      \"\"\"\n",
    "    using namespace std;\n",
    "    int ra = a.size();\n",
    "    int ca = a[0].size();\n",
    "    int rb = b.size();\n",
    "    int cb = b[0].size();\n",
    "\n",
    "    if (ca != rb){\n",
    "        cerr << \"Dimensions incorrect (it's A(m,n)*B(n,k))\"<< endl;\n",
    "        return {};\n",
    "    }\n",
    "\n",
    "    vector<vector<int>> c(ra, vector<int>(cb,0));\n",
    "    //\n",
    "    hpx::for_each(hpx::execution::par, a.begin(), a.end(), [&](const std::vector<int>& row_a) {\n",
    "        int i = &row_a - &a[0];\n",
    "        for (int j = 0; j < cb; j++) {\n",
    "            for (int k = 0; k < ca; k++) {\n",
    "                c[i][j] += row_a[k] * b[k][j];\n",
    "            }\n",
    "        }\n",
    "    });\n",
    "    \n",
    "    return c;\n",
    "\n",
    "\n",
    "      \"\"\"\n",
    "    "
   ]
  },
  {
   "cell_type": "code",
   "execution_count": 34,
   "metadata": {},
   "outputs": [
    {
     "name": "stdout",
     "output_type": "stream",
     "text": [
      "self.flags =  -std=c++17 -I/home/matrix/GSoc/ipyhpx \n",
      "          -I/home/matrix/pyhpx/release_hpx/hpx/cmake_install/include \n",
      "          -L/home/matrix/pyhpx/release_hpx/hpx/cmake_install/lib -lhpx \n",
      "          -Wl,-rpath=/home/matrix/pyhpx/release_hpx/hpx/cmake_install/lib\n",
      "self.module_name =  operations\n",
      "self.lib_path =  ./matrix\n",
      "input is ./matrix\n",
      "absolute path \n",
      "Directory already exists: /home/matrix/GSoc/pycxxwrap/Examples/matrix\n",
      "function name is : generateMatrix\n",
      "input is ./matrix\n",
      "absolute path \n",
      "Directory already exists: /home/matrix/GSoc/pycxxwrap/Examples/matrix\n",
      "the path is : /home/matrix/GSoc/pycxxwrap/Examples/matrix/generateMatrix\n",
      "type translation int\n",
      "type translation int\n",
      "type translation std::vector<std::vector<int>>\n",
      "\n",
      "                #include <pybind11/pybind11.h>\n",
      "                #include <pybind11/stl.h>\n",
      "                #include <iostream>\n",
      "#include <vector>\n",
      "#include <random>\n",
      "\n",
      "                \n",
      "\n",
      "                namespace py = pybind11;\n",
      "\n",
      "                extern \"C\" std::vector<std::vector<int>> generateMatrix(int rows,int cols){\n",
      "                \n",
      "    using namespace std;\n",
      "    // Create a random number generator\n",
      "    random_device rd;\n",
      "    mt19937 gen(rd());\n",
      "    uniform_int_distribution<int> dist(1, 100);\n",
      "\n",
      "    // Create the matrix and fill it with random values\n",
      "    vector<vector<int>> matrix(rows, vector<int>(cols));\n",
      "    for (int i = 0; i < rows; ++i) {\n",
      "        for (int j = 0; j < cols; ++j) {\n",
      "            matrix[i][j] = dist(gen);\n",
      "        }\n",
      "    }\n",
      "    std::cout<<\"hello\";\n",
      "\n",
      "    return matrix;\n",
      "    \n",
      "                };\n",
      "\n",
      "                \n",
      "\n",
      "                extern \"C\" void load_functions() {\n",
      "                    \n",
      "                }\n",
      "\n",
      "                PYBIND11_MODULE(generateMatrix_v1, m) {\n",
      "                    m.def(\"load\",load_functions,\"function\"),\n",
      "                    m.def(\"call\",generateMatrix,\"function\",py::arg(\"rows\"),py::arg(\"cols\"));\n",
      "                }\n",
      "started executing compilation ....\n",
      "function  is : \n",
      "def generateMatrix(*args):\n",
      "    fun = importlib.import_module(\"generateMatrix_v2\",\"./matrix\")\n",
      "    fun.load()\n",
      "    return fun.call(*args)\n",
      "    \n",
      "function already exists\n",
      "finished compilation 2.90 sec\n",
      "The path where .so goes ./matrix\n"
     ]
    }
   ],
   "source": [
    "@py11(args=a,headers=[\"<iostream>\",\"<vector>\", \"<random>\"],recompile=True)\n",
    "\n",
    "def generateMatrix(rows:int, cols:int)->vvec: \n",
    "    \"\"\"\n",
    "    using namespace std;\n",
    "    // Create a random number generator\n",
    "    random_device rd;\n",
    "    mt19937 gen(rd());\n",
    "    uniform_int_distribution<int> dist(1, 100);\n",
    "\n",
    "    // Create the matrix and fill it with random values\n",
    "    vector<vector<int>> matrix(rows, vector<int>(cols));\n",
    "    for (int i = 0; i < rows; ++i) {\n",
    "        for (int j = 0; j < cols; ++j) {\n",
    "            matrix[i][j] = dist(gen);\n",
    "        }\n",
    "    }\n",
    "    std::cout<<\"hello\";\n",
    "\n",
    "    return matrix;\n",
    "    \"\"\"\n"
   ]
  },
  {
   "cell_type": "code",
   "execution_count": 35,
   "metadata": {},
   "outputs": [
    {
     "name": "stdout",
     "output_type": "stream",
     "text": [
      "hello\u001b[31m\u001b[0mhello\u001b[31m\u001b[0m"
     ]
    }
   ],
   "source": [
    "a1 = generateMatrix(2,2)\n",
    "b = generateMatrix(2,2)"
   ]
  },
  {
   "cell_type": "code",
   "execution_count": 36,
   "metadata": {},
   "outputs": [
    {
     "name": "stdout",
     "output_type": "stream",
     "text": [
      "[[64, 29], [9, 69]]\n",
      "[[62, 59], [37, 50]]\n"
     ]
    }
   ],
   "source": [
    "print(a1)\n",
    "print(b)"
   ]
  },
  {
   "cell_type": "code",
   "execution_count": 37,
   "metadata": {},
   "outputs": [
    {
     "name": "stdout",
     "output_type": "stream",
     "text": [
      "Using 4 threads.\n",
      "\u001b[31m\u001b[0m"
     ]
    }
   ],
   "source": [
    "c =matmul_par(a1,b)"
   ]
  },
  {
   "cell_type": "code",
   "execution_count": 38,
   "metadata": {},
   "outputs": [
    {
     "data": {
      "text/plain": [
       "[[5041, 5226], [3111, 3981]]"
      ]
     },
     "execution_count": 38,
     "metadata": {},
     "output_type": "execute_result"
    }
   ],
   "source": [
    "c"
   ]
  }
 ],
 "metadata": {
  "kernelspec": {
   "display_name": "Python 3",
   "language": "python",
   "name": "python3"
  },
  "language_info": {
   "codemirror_mode": {
    "name": "ipython",
    "version": 3
   },
   "file_extension": ".py",
   "mimetype": "text/x-python",
   "name": "python",
   "nbconvert_exporter": "python",
   "pygments_lexer": "ipython3",
   "version": "3.10.12"
  },
  "orig_nbformat": 4
 },
 "nbformat": 4,
 "nbformat_minor": 2
}
