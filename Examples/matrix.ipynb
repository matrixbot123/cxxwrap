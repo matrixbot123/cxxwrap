{
 "cells": [
  {
   "cell_type": "code",
   "execution_count": 1,
   "metadata": {},
   "outputs": [
    {
     "name": "stdout",
     "output_type": "stream",
     "text": [
      "pybind11 headers path /home/matrix/.local/lib/python3.10/site-packages/pybind11/include\n",
      "python headers path /usr/include/python3.10\n"
     ]
    }
   ],
   "source": [
    "from cxxwrap.pycxx import py11\n",
    "\n",
    "from cxxwrap.tools import set_args\n",
    "from cxxwrap.types import *"
   ]
  },
  {
   "cell_type": "code",
   "execution_count": 2,
   "metadata": {},
   "outputs": [],
   "source": [
    "a = set_args(flags = \"\"\"-std=c++17 -I/home/matrix/GSoc/ipyhpx \n",
    "          -I/home/matrix/pyhpx/release_hpx/hpx/cmake_install/include \n",
    "          -L/home/matrix/pyhpx/release_hpx/hpx/cmake_install/lib -lhpx \n",
    "          -Wl,-rpath=/home/matrix/pyhpx/release_hpx/hpx/cmake_install/lib\"\"\",\n",
    "          lib_path=\"./matrix\",\n",
    "          module_name=\"operations\")"
   ]
  },
  {
   "cell_type": "code",
   "execution_count": 3,
   "metadata": {},
   "outputs": [],
   "source": [
    "create_type(\"func\",\"std::function<void()>\")"
   ]
  },
  {
   "cell_type": "code",
   "execution_count": 4,
   "metadata": {},
   "outputs": [
    {
     "name": "stdout",
     "output_type": "stream",
     "text": [
      "self.flags =  -std=c++17 -I/home/matrix/GSoc/ipyhpx \n",
      "          -I/home/matrix/pyhpx/release_hpx/hpx/cmake_install/include \n",
      "          -L/home/matrix/pyhpx/release_hpx/hpx/cmake_install/lib -lhpx \n",
      "          -Wl,-rpath=/home/matrix/pyhpx/release_hpx/hpx/cmake_install/lib\n",
      "self.module_name =  operations\n",
      "self.lib_path =  ./matrix\n",
      "input is ./matrix\n",
      "absolute path \n",
      "Creating directory: /home/matrix/GSoc/cxxwrap/Examples/matrix\n",
      "function name is : hpx_wrapper\n",
      "input is ./matrix\n",
      "absolute path \n",
      "Directory already exists: /home/matrix/GSoc/cxxwrap/Examples/matrix\n",
      "the path is : /home/matrix/GSoc/cxxwrap/Examples/matrix/hpx_wrapper\n",
      "type translation std::function<void()>\n",
      "type translation void\n",
      "started executing compilation ....\n",
      "function  is : \n",
      "def hpx_wrapper(*args):\n",
      "    fun = importlib.import_module(\"hpx_wrapper_v1\",\"./matrix\")\n",
      "    fun.load()\n",
      "    return fun.call(*args)\n",
      "    \n",
      "finished compilation 8.91 sec\n",
      "The path where .so goes ./matrix\n"
     ]
    }
   ],
   "source": [
    "@py11(headers=[\"<run_hpx.cpp>\",\"<iostream>\"],recompile=True,args=a)\n",
    "def hpx_wrapper(f : func)->None:\n",
    "    \"\"\"\n",
    "    const char *num = getenv(\"HPX_NUM_THREADS\");\n",
    "    int num_threads = num == 0 ? 4 : atoi(num);\n",
    "    std::cout << \"Using \" << num_threads << \" threads.\" << std::endl;\n",
    "    hpx_global::submit_work(num_threads,f);\n",
    "    \"\"\""
   ]
  },
  {
   "cell_type": "code",
   "execution_count": 5,
   "metadata": {},
   "outputs": [],
   "source": [
    "create_type(\"vvec\",\"std::vector<std::vector<int>>\",is_template=True)"
   ]
  },
  {
   "cell_type": "code",
   "execution_count": 6,
   "metadata": {},
   "outputs": [
    {
     "name": "stdout",
     "output_type": "stream",
     "text": [
      "self.flags =  -std=c++17 -I/home/matrix/GSoc/ipyhpx \n",
      "          -I/home/matrix/pyhpx/release_hpx/hpx/cmake_install/include \n",
      "          -L/home/matrix/pyhpx/release_hpx/hpx/cmake_install/lib -lhpx \n",
      "          -Wl,-rpath=/home/matrix/pyhpx/release_hpx/hpx/cmake_install/lib\n",
      "self.module_name =  operations\n",
      "self.lib_path =  ./matrix\n",
      "input is ./matrix\n",
      "absolute path \n",
      "Directory already exists: /home/matrix/GSoc/cxxwrap/Examples/matrix\n",
      "function name is : matmul_par\n",
      "input is ./matrix\n",
      "absolute path \n",
      "Directory already exists: /home/matrix/GSoc/cxxwrap/Examples/matrix\n",
      "the path is : /home/matrix/GSoc/cxxwrap/Examples/matrix/matmul_par\n",
      "type translation std::vector<std::vector<int>>\n",
      "type translation std::vector<std::vector<int>>\n",
      "type translation std::vector<std::vector<int>>\n",
      "started executing compilation ....\n",
      "function  is : \n",
      "def matmul_par(*args):\n",
      "    fun = importlib.import_module(\"matmul_par_v1\",\"./matrix\")\n",
      "    fun.load()\n",
      "    return fun.call(*args)\n",
      "    \n",
      "function was updated\n",
      "finished compilation 9.01 sec\n",
      "The path where .so goes ./matrix\n"
     ]
    }
   ],
   "source": [
    "@py11(args=a,\n",
    "      headers=[\"<iostream>\",\n",
    "            \"<vector>\",\n",
    "            \"<hpx/algorithm.hpp>\",\n",
    "            \"<hpx/chrono.hpp>\",\n",
    "            \"<hpx/init.hpp>\",\n",
    "            \"<hpx/modules/assertion.hpp>\"],\n",
    "        wrap=hpx_wrapper)\n",
    "def matmul_par(a:vvec,b:vvec)->vvec:\n",
    "\n",
    "      \"\"\"\n",
    "    using namespace std;\n",
    "    int ra = a.size();\n",
    "    int ca = a[0].size();\n",
    "    int rb = b.size();\n",
    "    int cb = b[0].size();\n",
    "\n",
    "    if (ca != rb){\n",
    "        cerr << \"Dimensions incorrect (it's A(m,n)*B(n,k))\"<< endl;\n",
    "        return {};\n",
    "    }\n",
    "\n",
    "    vector<vector<int>> c(ra, vector<int>(cb,0));\n",
    "    //\n",
    "    hpx::for_each(hpx::execution::par, a.begin(), a.end(), [&](const std::vector<int>& row_a) {\n",
    "        int i = &row_a - &a[0];\n",
    "        for (int j = 0; j < cb; j++) {\n",
    "            for (int k = 0; k < ca; k++) {\n",
    "                c[i][j] += row_a[k] * b[k][j];\n",
    "            }\n",
    "        }\n",
    "    });\n",
    "    \n",
    "    return c;\n",
    "\n",
    "\n",
    "      \"\"\"\n",
    "    "
   ]
  },
  {
   "cell_type": "markdown",
   "metadata": {},
   "source": [
    "```cpp\n",
    "vector<vector<int>> matmul_par( const vector<vector<int>>& a,\n",
    "                            const vector<vector<int>>& b, \n",
    "                            bool flag = 1) {\n",
    "    \n",
    "\n",
    "    auto start = std::chrono::high_resolution_clock::now();\n",
    "    int ra = a.size();\n",
    "    int ca = a[0].size();\n",
    "    int rb = b.size();\n",
    "    int cb = b[0].size();\n",
    "\n",
    "    if (ca != rb){\n",
    "        cerr << \"Dimensions incorrect (it's A(m,n)*B(n,k))\"<< endl;\n",
    "        return {};\n",
    "    }\n",
    "\n",
    "    vector<vector<int>> c(ra, vector<int>(cb,0));\n",
    "    //\n",
    "    hpx::for_each(hpx::execution::par, a.begin(), a.end(), [&](const std::vector<int>& row_a) {\n",
    "        int i = &row_a - &a[0];\n",
    "        for (int j = 0; j < cb; j++) {\n",
    "            for (int k = 0; k < ca; k++) {\n",
    "                c[i][j] += row_a[k] * b[k][j];\n",
    "            }\n",
    "        }\n",
    "    });\n",
    "    \n",
    "    //printing the time taken \n",
    "    auto end = std::chrono::high_resolution_clock::now();\n",
    "    auto duration = std::chrono::duration_cast<std::chrono::milliseconds>(end - start);\n",
    "    if (flag == 1){\n",
    "        std::cout   << \"Time taken by  parallel(par) version: \" \n",
    "                    << duration.count() \n",
    "                    << \"ms\" << endl; \n",
    "    }\n",
    "    return c;\n",
    "}\n",
    "```"
   ]
  },
  {
   "cell_type": "code",
   "execution_count": 7,
   "metadata": {},
   "outputs": [
    {
     "name": "stdout",
     "output_type": "stream",
     "text": [
      "self.flags =  -std=c++17 -I/home/matrix/GSoc/ipyhpx \n",
      "          -I/home/matrix/pyhpx/release_hpx/hpx/cmake_install/include \n",
      "          -L/home/matrix/pyhpx/release_hpx/hpx/cmake_install/lib -lhpx \n",
      "          -Wl,-rpath=/home/matrix/pyhpx/release_hpx/hpx/cmake_install/lib\n",
      "self.module_name =  operations\n",
      "self.lib_path =  ./matrix\n",
      "input is ./matrix\n",
      "absolute path \n",
      "Directory already exists: /home/matrix/GSoc/cxxwrap/Examples/matrix\n",
      "function name is : generateMatrix\n",
      "input is ./matrix\n",
      "absolute path \n",
      "Directory already exists: /home/matrix/GSoc/cxxwrap/Examples/matrix\n",
      "the path is : /home/matrix/GSoc/cxxwrap/Examples/matrix/generateMatrix\n",
      "type translation int\n",
      "type translation int\n",
      "type translation std::vector<std::vector<int>>\n",
      "started executing compilation ....\n",
      "function  is : \n",
      "def generateMatrix(*args):\n",
      "    fun = importlib.import_module(\"generateMatrix_v1\",\"./matrix\")\n",
      "    fun.load()\n",
      "    return fun.call(*args)\n",
      "    \n",
      "function was updated\n",
      "finished compilation 3.15 sec\n",
      "The path where .so goes ./matrix\n"
     ]
    }
   ],
   "source": [
    "@py11(args=a,headers=[\"<iostream>\",\"<vector>\", \"<random>\"],recompile=True)\n",
    "\n",
    "def generateMatrix(rows:int, cols:int)->vvec: \n",
    "    \"\"\"\n",
    "    using namespace std;\n",
    "    // Create a random number generator\n",
    "    random_device rd;\n",
    "    mt19937 gen(rd());\n",
    "    uniform_int_distribution<int> dist(1, 100);\n",
    "\n",
    "    // Create the matrix and fill it with random values\n",
    "    vector<vector<int>> matrix(rows, vector<int>(cols));\n",
    "    for (int i = 0; i < rows; ++i) {\n",
    "        for (int j = 0; j < cols; ++j) {\n",
    "            matrix[i][j] = dist(gen);\n",
    "        }\n",
    "    }\n",
    "    std::cout<<\"hello\";\n",
    "\n",
    "    return matrix;\n",
    "    \"\"\"\n"
   ]
  },
  {
   "cell_type": "code",
   "execution_count": 8,
   "metadata": {},
   "outputs": [
    {
     "name": "stdout",
     "output_type": "stream",
     "text": [
      "hello\u001b[31m\u001b[0mhello\u001b[31m\u001b[0m"
     ]
    }
   ],
   "source": [
    "a = generateMatrix(2,2)\n",
    "b = generateMatrix(2,2)"
   ]
  },
  {
   "cell_type": "code",
   "execution_count": 9,
   "metadata": {},
   "outputs": [
    {
     "name": "stdout",
     "output_type": "stream",
     "text": [
      "[[7, 70], [79, 96]]\n",
      "[[82, 93], [56, 37]]\n"
     ]
    }
   ],
   "source": [
    "print(a)\n",
    "print(b)"
   ]
  },
  {
   "cell_type": "code",
   "execution_count": 10,
   "metadata": {},
   "outputs": [
    {
     "name": "stdout",
     "output_type": "stream",
     "text": [
      "Using 4 threads.\n",
      "\u001b[31m\u001b[0m"
     ]
    }
   ],
   "source": [
    "c =matmul_par(a,b)"
   ]
  },
  {
   "cell_type": "code",
   "execution_count": 11,
   "metadata": {},
   "outputs": [
    {
     "data": {
      "text/plain": [
       "[[4494, 3241], [11854, 10899]]"
      ]
     },
     "execution_count": 11,
     "metadata": {},
     "output_type": "execute_result"
    }
   ],
   "source": [
    "c"
   ]
  },
  {
   "cell_type": "code",
   "execution_count": 12,
   "metadata": {},
   "outputs": [],
   "source": [
    "from matrix.operations import matmul_par as multiply"
   ]
  },
  {
   "cell_type": "code",
   "execution_count": null,
   "metadata": {},
   "outputs": [],
   "source": []
  },
  {
   "cell_type": "code",
   "execution_count": null,
   "metadata": {},
   "outputs": [],
   "source": []
  }
 ],
 "metadata": {
  "kernelspec": {
   "display_name": "Python 3",
   "language": "python",
   "name": "python3"
  },
  "language_info": {
   "codemirror_mode": {
    "name": "ipython",
    "version": 3
   },
   "file_extension": ".py",
   "mimetype": "text/x-python",
   "name": "python",
   "nbconvert_exporter": "python",
   "pygments_lexer": "ipython3",
   "version": "3.10.12"
  },
  "orig_nbformat": 4
 },
 "nbformat": 4,
 "nbformat_minor": 2
}
