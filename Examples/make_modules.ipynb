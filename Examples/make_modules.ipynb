{
 "cells": [
  {
   "cell_type": "markdown",
   "metadata": {},
   "source": [
    "## Make and Install Modules"
   ]
  },
  {
   "cell_type": "code",
   "execution_count": 2,
   "metadata": {},
   "outputs": [],
   "source": [
    "from pycxxwrap.tools import prepare_python_package,set_args\n",
    "from pycxxwrap.pycxx import py11\n"
   ]
  },
  {
   "cell_type": "code",
   "execution_count": 3,
   "metadata": {},
   "outputs": [],
   "source": [
    "a1 = set_args(module_name=\"pycxxwrap_example\",lib_path=\"./test_module\")"
   ]
  },
  {
   "cell_type": "code",
   "execution_count": 4,
   "metadata": {},
   "outputs": [
    {
     "name": "stdout",
     "output_type": "stream",
     "text": [
      "self.flags =  -std=c++17\n",
      "self.module_name =  pycxxwrap_example\n",
      "self.lib_path =  ./test_module\n",
      "input is ./test_module\n",
      "absolute path \n",
      "Creating directory: /home/matrix/GSoc/pycxxwrap/Examples/test_module\n",
      "function name is : print_hello\n",
      "input is ./test_module\n",
      "absolute path \n",
      "Directory already exists: /home/matrix/GSoc/pycxxwrap/Examples/test_module\n",
      "the path is : /home/matrix/GSoc/pycxxwrap/Examples/test_module/print_hello\n",
      "type translation void\n",
      "started executing compilation ....\n",
      "function  is : \n",
      "def print_hello(*args):\n",
      "    fun = importlib.import_module(\"print_hello_v1\",\"./test_module\")\n",
      "    fun.load()\n",
      "    return fun.call(*args)\n",
      "    \n",
      "finished compilation 3.42 sec\n",
      "The path where .so goes ./test_module\n"
     ]
    }
   ],
   "source": [
    "@py11(headers=[\"<iostream>\"],args=a1)\n",
    "def print_hello()->None:\n",
    "    \"\"\"\n",
    "    std::cout << \"Hello World!\" << std::endl;\n",
    "    \"\"\"\n"
   ]
  },
  {
   "cell_type": "code",
   "execution_count": 5,
   "metadata": {},
   "outputs": [
    {
     "name": "stdout",
     "output_type": "stream",
     "text": [
      "setup complete at /home/matrix/pycxx_modules/test_module_m/test_module Just `pip install .` from folder test_module_m to install the module\n"
     ]
    }
   ],
   "source": [
    "prepare_python_package(a1)"
   ]
  },
  {
   "cell_type": "markdown",
   "metadata": {},
   "source": [
    "The installing can be done thought the terminal . This just to show how to do it ."
   ]
  },
  {
   "cell_type": "markdown",
   "metadata": {},
   "source": []
  },
  {
   "cell_type": "code",
   "execution_count": 12,
   "metadata": {},
   "outputs": [
    {
     "name": "stdout",
     "output_type": "stream",
     "text": [
      "Defaulting to user installation because normal site-packages is not writeable\n",
      "Processing /home/matrix/pycxx_modules/test_module_m\n",
      "  Preparing metadata (setup.py) ... \u001b[?25ldone\n",
      "\u001b[?25hBuilding wheels for collected packages: test-module\n",
      "  Building wheel for test-module (setup.py) ... \u001b[?25ldone\n",
      "\u001b[?25h  Created wheel for test-module: filename=test_module-0.0.1-py3-none-any.whl size=1552 sha256=45af3d9f642cc8083de8d3f44e509acd3c9a59dba22bb4e857a0dad663b86ead\n",
      "  Stored in directory: /tmp/pip-ephem-wheel-cache-zbsla9av/wheels/de/73/b6/a2f8db5be70313b223937d04cfc2e1ab5d82083e2e4818c51e\n",
      "Successfully built test-module\n",
      "Installing collected packages: test-module\n",
      "Successfully installed test-module-0.0.1\n"
     ]
    }
   ],
   "source": [
    "import os\n",
    "os.chdir(\"/home/matrix/pycxx_modules/test_module_m\")\n",
    "\n",
    "!pip install ."
   ]
  },
  {
   "cell_type": "code",
   "execution_count": 15,
   "metadata": {},
   "outputs": [
    {
     "name": "stdout",
     "output_type": "stream",
     "text": [
      "Hello World!\n"
     ]
    }
   ],
   "source": [
    "from test_module.pycxxwrap_example import print_hello\n",
    "print_hello()"
   ]
  },
  {
   "cell_type": "code",
   "execution_count": 14,
   "metadata": {},
   "outputs": [
    {
     "name": "stdout",
     "output_type": "stream",
     "text": [
      "Found existing installation: test-module 0.0.1\n",
      "Uninstalling test-module-0.0.1:\n",
      "  Successfully uninstalled test-module-0.0.1\n"
     ]
    }
   ],
   "source": [
    "!pip uninstall -y test_module"
   ]
  },
  {
   "cell_type": "code",
   "execution_count": null,
   "metadata": {},
   "outputs": [],
   "source": []
  }
 ],
 "metadata": {
  "kernelspec": {
   "display_name": "Python 3",
   "language": "python",
   "name": "python3"
  },
  "language_info": {
   "codemirror_mode": {
    "name": "ipython",
    "version": 3
   },
   "file_extension": ".py",
   "mimetype": "text/x-python",
   "name": "python",
   "nbconvert_exporter": "python",
   "pygments_lexer": "ipython3",
   "version": "3.10.12"
  },
  "orig_nbformat": 4
 },
 "nbformat": 4,
 "nbformat_minor": 2
}
